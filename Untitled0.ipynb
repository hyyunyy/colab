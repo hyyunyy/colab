{
  "nbformat": 4,
  "nbformat_minor": 0,
  "metadata": {
    "colab": {
      "name": "Untitled0.ipynb",
      "provenance": [],
      "authorship_tag": "ABX9TyNWUGRcoEPgGwjjljWt8nXN",
      "include_colab_link": true
    },
    "kernelspec": {
      "name": "python3",
      "display_name": "Python 3"
    },
    "language_info": {
      "name": "python"
    }
  },
  "cells": [
    {
      "cell_type": "markdown",
      "metadata": {
        "id": "view-in-github",
        "colab_type": "text"
      },
      "source": [
        "<a href=\"https://colab.research.google.com/github/hyyunyy/colab/blob/main/Untitled0.ipynb\" target=\"_parent\"><img src=\"https://colab.research.google.com/assets/colab-badge.svg\" alt=\"Open In Colab\"/></a>"
      ]
    },
    {
      "cell_type": "code",
      "execution_count": null,
      "metadata": {
        "id": "aTS-u--BIWsb"
      },
      "outputs": [],
      "source": [
        "import turtle turtle.shape(\"turtle\")\n",
        " turtle.penup() \n",
        " while True X = int(input (\"X 위치 : y = int(input (\"Y 위치 = text = input ( \"쓰고 싶은 글자 ==>\") \n",
        " turtle.goto(x,y) \n",
        " turtle.write(text, font=(\"Arial\" , 30)) turtle.done()   "
      ]
    }
  ]
}