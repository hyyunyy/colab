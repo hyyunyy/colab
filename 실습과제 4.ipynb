{
  "nbformat": 4,
  "nbformat_minor": 0,
  "metadata": {
    "colab": {
      "provenance": [],
      "authorship_tag": "ABX9TyPP1SHsJFyEG42K17ZhWlyA",
      "include_colab_link": true
    },
    "kernelspec": {
      "name": "python3",
      "display_name": "Python 3"
    },
    "language_info": {
      "name": "python"
    }
  },
  "cells": [
    {
      "cell_type": "markdown",
      "metadata": {
        "id": "view-in-github",
        "colab_type": "text"
      },
      "source": [
        "<a href=\"https://colab.research.google.com/github/hyyunyy/colab/blob/main/%EC%8B%A4%EC%8A%B5%EA%B3%BC%EC%A0%9C%204.ipynb\" target=\"_parent\"><img src=\"https://colab.research.google.com/assets/colab-badge.svg\" alt=\"Open In Colab\"/></a>"
      ]
    },
    {
      "cell_type": "code",
      "execution_count": 1,
      "metadata": {
        "colab": {
          "base_uri": "https://localhost:8080/"
        },
        "id": "gzhtRi4C4RJB",
        "outputId": "64a03109-1ee5-4723-8411-77a21281bf2e"
      },
      "outputs": [
        {
          "output_type": "stream",
          "name": "stdout",
          "text": [
            "파운드 값을 입력하세요 : 34\n",
            "34 파운드는 15.436 킬로그램입니다.\n"
          ]
        }
      ],
      "source": [
        "\n",
        "    pound = eval(input(\"파운드 값을 입력하세요 : \"))\n",
        "    kg = pound * 0.454  \n",
        "    \n",
        "    print(pound, \"파운드는\", kg, \"킬로그램입니다.\")\n",
        "    "
      ]
    }
  ]
}