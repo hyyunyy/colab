{
  "nbformat": 4,
  "nbformat_minor": 0,
  "metadata": {
    "colab": {
      "provenance": [],
      "authorship_tag": "ABX9TyMiN71pLFEp097DheB5LRIS",
      "include_colab_link": true
    },
    "kernelspec": {
      "name": "python3",
      "display_name": "Python 3"
    },
    "language_info": {
      "name": "python"
    }
  },
  "cells": [
    {
      "cell_type": "markdown",
      "metadata": {
        "id": "view-in-github",
        "colab_type": "text"
      },
      "source": [
        "<a href=\"https://colab.research.google.com/github/hyyunyy/colab/blob/main/%EC%8B%A4%EC%8A%B5%EA%B3%BC%EC%A0%9C2.ipynb\" target=\"_parent\"><img src=\"https://colab.research.google.com/assets/colab-badge.svg\" alt=\"Open In Colab\"/></a>"
      ]
    },
    {
      "cell_type": "code",
      "execution_count": 1,
      "metadata": {
        "colab": {
          "base_uri": "https://localhost:8080/"
        },
        "id": "d6lr483BwWSh",
        "outputId": "8f91adb5-5e57-4c5c-b308-277fa5cdfbca"
      },
      "outputs": [
        {
          "output_type": "stream",
          "name": "stdout",
          "text": [
            "Original String: 트와이스\n",
            "Reversed String: 스이와트\n"
          ]
        }
      ],
      "source": [
        "string = '트와이스'\n",
        "reversed_str = ''\n",
        "for i in string:\n",
        "    reversed_str = i + reversed_str\n",
        "\n",
        "print(f'Original String: {string}')\n",
        "print(f'Reversed String: {reversed_str}')"
      ]
    }
  ]
}