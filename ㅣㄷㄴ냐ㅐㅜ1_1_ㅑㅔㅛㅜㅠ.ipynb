{
  "nbformat": 4,
  "nbformat_minor": 0,
  "metadata": {
    "colab": {
      "name": "ㅣㄷㄴ냐ㅐㅜ1-1.ㅑㅔㅛㅜㅠ",
      "provenance": [],
      "authorship_tag": "ABX9TyNZBdXJFRknoA0P9rZdr8ID",
      "include_colab_link": true
    },
    "kernelspec": {
      "name": "python3",
      "display_name": "Python 3"
    },
    "language_info": {
      "name": "python"
    }
  },
  "cells": [
    {
      "cell_type": "markdown",
      "metadata": {
        "id": "view-in-github",
        "colab_type": "text"
      },
      "source": [
        "<a href=\"https://colab.research.google.com/github/hyyunyy/colab/blob/main/%E3%85%A3%E3%84%B7%E3%84%B4%EB%83%90%E3%85%90%E3%85%9C1_1_%E3%85%91%E3%85%94%E3%85%9B%E3%85%9C%E3%85%A0.ipynb\" target=\"_parent\"><img src=\"https://colab.research.google.com/assets/colab-badge.svg\" alt=\"Open In Colab\"/></a>"
      ]
    },
    {
      "cell_type": "markdown",
      "source": [
        "\n",
        "# 파이썬 시작하기\n",
        " *   프로그래밍 언어?\n",
        "*   컴퓨터와 스마트폰에 들어 있는 많은 소프트웨어 유튜브, 메세지, 전화, 카카오톡 등\n",
        "*   프로그램, 소프트웨어(software), 어플리케이션(application), 앱(app), 응용 프로그램 모두 동일한 용어 입니다.\n",
        "\n",
        "\n",
        "\n",
        "\n",
        "\n",
        "\n",
        "\n",
        "\n"
      ],
      "metadata": {
        "id": "ge4VKwCeLmGP"
      }
    },
    {
      "cell_type": "markdown",
      "source": [
        "#프로그램, 프로그래밍 언어, 프로그래머\n",
        "* 프로그래밍(Programming)\n",
        " * 프로그램을 만드는 작업\n",
        "\n",
        "\n",
        "\n",
        "*   프로그래밍 언어(Programming language)\n",
        " *   사람이 이해하는 말을 언어라고 부르듯이 컴퓨터가 이해하는 언어를 의미\n",
        "\n",
        "\n",
        "\n",
        "*  프로그래머(Programmer)\n",
        " *   프로그래밍 언어를 사용하는 소프트웨어나 앱을 만드는 직업을 가진 사람들\n",
        "\n",
        "\n",
        "\n",
        "\n"
      ],
      "metadata": {
        "id": "NiwsutbJMkKX"
      }
    },
    {
      "cell_type": "code",
      "execution_count": null,
      "metadata": {
        "id": "DtEw0aeCLdlm"
      },
      "outputs": [],
      "source": [
        ""
      ]
    }
  ]
}