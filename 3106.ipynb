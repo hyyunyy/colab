{
  "cells": [
    {
      "cell_type": "markdown",
      "metadata": {
        "id": "view-in-github",
        "colab_type": "text"
      },
      "source": [
        "<a href=\"https://colab.research.google.com/github/hyyunyy/colab/blob/main/3106.ipynb\" target=\"_parent\"><img src=\"https://colab.research.google.com/assets/colab-badge.svg\" alt=\"Open In Colab\"/></a>"
      ]
    },
    {
      "cell_type": "markdown",
      "source": [
        "2022학년도 응용프로그래밍 개발 - 논술형\n",
        "컴퓨터과 3학년 1반 6번 김예현"
      ],
      "metadata": {
        "id": "9VERfjVL7pLI"
      }
    },
    {
      "cell_type": "code",
      "source": [
        "num1,num2=map(int,input('정수를 두개 입력하세요: ').split())\n",
        "oper=input('연산자를 입력하세요: ')\n",
        "if oper=='+':\n",
        "    print('답: ',num1+num2)"
      ],
      "metadata": {
        "colab": {
          "base_uri": "https://localhost:8080/"
        },
        "id": "n1EyocTz88W5",
        "outputId": "8e5aaa5e-fc0e-463b-b7b4-1a93faa3f5ba"
      },
      "execution_count": 11,
      "outputs": [
        {
          "name": "stdout",
          "output_type": "stream",
          "text": [
            "정수를 두개 입력하세요: 2 3\n",
            "연산자를 입력하세요: -\n"
          ]
        }
      ]
    },
    {
      "cell_type": "code",
      "source": [
        "num1,num2=map(int,input('정수를 두개 입력하세요: ').split())\n",
        "oper=input('연산자를 입력하세요: ')\n",
        "if oper == '/':\n",
        "    print('답: ', float(num1 / num2))"
      ],
      "metadata": {
        "colab": {
          "base_uri": "https://localhost:8080/"
        },
        "id": "Dw0Ri3yM_ObP",
        "outputId": "b04fe635-2137-4924-da57-72e41b3cdb3e"
      },
      "execution_count": 13,
      "outputs": [
        {
          "output_type": "stream",
          "name": "stdout",
          "text": [
            "정수를 두개 입력하세요: 2 3\n",
            "연산자를 입력하세요: /\n",
            "답:  0.6666666666666666\n"
          ]
        }
      ]
    },
    {
      "cell_type": "code",
      "source": [
        "num1,num2=map(int,input('정수를 두개 입력하세요: ').split())\n",
        "oper=input('연산자를 입력하세요: ')\n",
        "if oper == '*':\n",
        "    print('답: ', num1 * num2)"
      ],
      "metadata": {
        "colab": {
          "base_uri": "https://localhost:8080/"
        },
        "id": "UrSTdS12_GzH",
        "outputId": "fd9889e5-e9a6-4ef4-ebae-a9d8d235f449"
      },
      "execution_count": 15,
      "outputs": [
        {
          "output_type": "stream",
          "name": "stdout",
          "text": [
            "정수를 두개 입력하세요: 2 3\n",
            "연산자를 입력하세요: *\n",
            "답:  6\n"
          ]
        }
      ]
    },
    {
      "cell_type": "code",
      "source": [
        "num1,num2=map(int,input('정수를 두개 입력하세요: ').split())\n",
        "oper=input('연산자를 입력하세요: ')\n",
        "if oper=='-':\n",
        "    print('답: ',num1-num2)"
      ],
      "metadata": {
        "colab": {
          "base_uri": "https://localhost:8080/"
        },
        "id": "KL6LaxXD_B-G",
        "outputId": "56b706f3-6fb5-45f4-e826-9bd08fe06dd0"
      },
      "execution_count": 14,
      "outputs": [
        {
          "output_type": "stream",
          "name": "stdout",
          "text": [
            "정수를 두개 입력하세요: 2 3\n",
            "연산자를 입력하세요: -\n",
            "답:  -1\n"
          ]
        }
      ]
    },
    {
      "cell_type": "markdown",
      "source": [],
      "metadata": {
        "id": "StxAC71s7pQY"
      }
    }
  ],
  "metadata": {
    "colab": {
      "name": "3106",
      "provenance": [],
      "collapsed_sections": [],
      "authorship_tag": "ABX9TyOW3XW+6s7wbnoLQ3OGKykQ",
      "include_colab_link": true
    },
    "kernelspec": {
      "display_name": "Python 3",
      "name": "python3"
    },
    "language_info": {
      "name": "python"
    }
  },
  "nbformat": 4,
  "nbformat_minor": 0
}