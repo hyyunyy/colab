{
  "cells": [
    {
      "cell_type": "markdown",
      "metadata": {
        "id": "view-in-github",
        "colab_type": "text"
      },
      "source": [
        "<a href=\"https://colab.research.google.com/github/hyyunyy/colab/blob/main/3106.ipynb\" target=\"_parent\"><img src=\"https://colab.research.google.com/assets/colab-badge.svg\" alt=\"Open In Colab\"/></a>"
      ]
    },
    {
      "cell_type": "markdown",
      "source": [
        "2022학년도 응용프로그래밍 개발 - 논술형\n",
        "컴퓨터과 3학년 1반 6번 김예현"
      ],
      "metadata": {
        "id": "9VERfjVL7pLI"
      }
    },
    {
      "cell_type": "markdown",
      "source": [],
      "metadata": {
        "id": "StxAC71s7pQY"
      }
    },
    {
      "cell_type": "code",
      "source": [
        "\n",
        "num1,num2=map(int,input('정수를 두개 입력하세요: ').split())\n",
        "oper=input('연산자를 입력하세요: ')\n",
        "if oper=='+':\n",
        "    print('답: ',num1+num2)\n",
        "elif oper=='-':\n",
        "    print('답: ',num1-num2)\n",
        "elif oper == '*':\n",
        "    print('답: ', num1 * num2)\n",
        "elif oper == '/':\n",
        "    print('답: ', float(num1 / num2))\n",
        "\n",
        "\n"
      ],
      "metadata": {
        "colab": {
          "base_uri": "https://localhost:8080/"
        },
        "id": "UTRFi1TBAqP5",
        "outputId": "13eb30c0-23e4-4255-d078-9d1ae30775d8"
      },
      "execution_count": 16,
      "outputs": [
        {
          "output_type": "stream",
          "name": "stdout",
          "text": [
            "정수를 두개 입력하세요: 2 3\n",
            "연산자를 입력하세요: *\n",
            "답:  6\n"
          ]
        }
      ]
    }
  ],
  "metadata": {
    "colab": {
      "name": "3106",
      "provenance": [],
      "collapsed_sections": [],
      "authorship_tag": "ABX9TyPxZv1x6d8kUodYawhv93iK",
      "include_colab_link": true
    },
    "kernelspec": {
      "display_name": "Python 3",
      "name": "python3"
    },
    "language_info": {
      "name": "python"
    }
  },
  "nbformat": 4,
  "nbformat_minor": 0
}