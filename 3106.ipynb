{
  "cells": [
    {
      "cell_type": "markdown",
      "metadata": {
        "id": "view-in-github",
        "colab_type": "text"
      },
      "source": [
        "<a href=\"https://colab.research.google.com/github/hyyunyy/colab/blob/main/3106.ipynb\" target=\"_parent\"><img src=\"https://colab.research.google.com/assets/colab-badge.svg\" alt=\"Open In Colab\"/></a>"
      ]
    },
    {
      "cell_type": "markdown",
      "source": [
        "2022학년도 응용프로그래밍 개발 - 논술형\n",
        "컴퓨터과 3학년 1반 6번 김예현"
      ],
      "metadata": {
        "id": "9VERfjVL7pLI"
      }
    },
    {
      "cell_type": "code",
      "source": [
        "c = a + b\n",
        "print(c)\n",
        "\n",
        "c = a - b\n",
        "print(c)\n",
        "\n",
        "c = a * b\n",
        "print(c)\n",
        "\n",
        "c = a / a\n",
        "print(c)"
      ],
      "metadata": {
        "colab": {
          "base_uri": "https://localhost:8080/"
        },
        "id": "n1EyocTz88W5",
        "outputId": "607096a8-c9a3-4aed-f1c8-6f09e5269dea"
      },
      "execution_count": 2,
      "outputs": [
        {
          "output_type": "stream",
          "name": "stdout",
          "text": [
            "2\n",
            "4\n",
            "-3\n",
            "1.0\n"
          ]
        }
      ]
    },
    {
      "cell_type": "markdown",
      "source": [],
      "metadata": {
        "id": "StxAC71s7pQY"
      }
    }
  ],
  "metadata": {
    "colab": {
      "name": "3106",
      "provenance": [],
      "collapsed_sections": [],
      "authorship_tag": "ABX9TyM4Gvnm7d3DAf7UTMIjeTZ1",
      "include_colab_link": true
    },
    "kernelspec": {
      "display_name": "Python 3",
      "name": "python3"
    },
    "language_info": {
      "name": "python"
    }
  },
  "nbformat": 4,
  "nbformat_minor": 0
}