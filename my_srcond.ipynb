{
  "nbformat": 4,
  "nbformat_minor": 0,
  "metadata": {
    "colab": {
      "name": "my srcond.ipynb",
      "provenance": [],
      "authorship_tag": "ABX9TyOQInnqOQ4HgRi4+Am7je1y",
      "include_colab_link": true
    },
    "kernelspec": {
      "name": "python3",
      "display_name": "Python 3"
    },
    "language_info": {
      "name": "python"
    }
  },
  "cells": [
    {
      "cell_type": "markdown",
      "metadata": {
        "id": "view-in-github",
        "colab_type": "text"
      },
      "source": [
        "<a href=\"https://colab.research.google.com/github/hyyunyy/colab/blob/main/my_srcond.ipynb\" target=\"_parent\"><img src=\"https://colab.research.google.com/assets/colab-badge.svg\" alt=\"Open In Colab\"/></a>"
      ]
    },
    {
      "cell_type": "code",
      "execution_count": null,
      "metadata": {
        "id": "82SFOxJvRdX8"
      },
      "outputs": [],
      "source": [
        "print(\"두 번째 파일입니다.\")\n",
        "print(\"난생처음 파이썬인지 뭐시긴지를 하는데 익숙해지긴 커녕 머리가 터져 나갈 거 같아요 .\")"
      ]
    }
  ]
}